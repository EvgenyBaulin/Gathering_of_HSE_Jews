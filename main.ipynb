{
 "cells": [
  {
   "cell_type": "code",
   "id": "initial_id",
   "metadata": {
    "collapsed": true,
    "ExecuteTime": {
     "end_time": "2024-11-06T19:57:05.549481Z",
     "start_time": "2024-11-06T19:57:05.546335Z"
    }
   },
   "source": [
    "import pandas as pd\n",
    "import matplotlib.pyplot as plt\n",
    "import requests\n",
    "from dotenv import load_dotenv\n",
    "import os"
   ],
   "outputs": [],
   "execution_count": 5
  },
  {
   "metadata": {
    "ExecuteTime": {
     "end_time": "2024-11-06T19:57:06.253244Z",
     "start_time": "2024-11-06T19:57:06.245337Z"
    }
   },
   "cell_type": "code",
   "source": [
    "load_dotenv()\n",
    "\n",
    "ACCESS_TOKEN = os.getenv('ACCESS_TOKEN')\n",
    "API_VERSION = os.getenv('API_VERSION')"
   ],
   "id": "e000d5d671beeaea",
   "outputs": [],
   "execution_count": 6
  },
  {
   "metadata": {
    "ExecuteTime": {
     "end_time": "2024-09-07T19:49:45.506099Z",
     "start_time": "2024-09-07T19:49:45.503330Z"
    }
   },
   "cell_type": "code",
   "source": [
    "def get_group_members(group_id):\n",
    "    members = []\n",
    "    offset = 0\n",
    "    count = 1000\n",
    "\n",
    "    while True:\n",
    "        response = requests.get('https://api.vk.com/method/groups.getMembers', params = {\n",
    "            'group_id': group_id,\n",
    "            'access_token': ACCESS_TOKEN,\n",
    "            'v': API_VERSION,\n",
    "            'count': count,\n",
    "            'offset': offset,\n",
    "        })\n",
    "\n",
    "        if response.status_code != 200:\n",
    "            print(f\"Ошибка: запрос вернул статус {response.status_code}\")\n",
    "            print(response.text)\n",
    "            break\n",
    "\n",
    "        try:\n",
    "            response_json = response.json()\n",
    "        except requests.exceptions.JSONDecodeError:\n",
    "            print(\"Ошибка: не удалось разобрать JSON\")\n",
    "            print(response.text)\n",
    "            break\n",
    "\n",
    "        members_data = response_json.get('response', {}).get('items', [])\n",
    "        if not members_data:\n",
    "            break\n",
    "\n",
    "        members.extend(members_data)\n",
    "        offset += count\n",
    "\n",
    "    return members\n",
    "\n",
    "\n",
    "def get_user_data(user_ids):\n",
    "    user_data_list = []\n",
    "    chunk_size = 100\n",
    "\n",
    "    for i in range(0, len(user_ids), chunk_size):\n",
    "        ids_chunk = user_ids[i:i + chunk_size]\n",
    "        response = requests.get('https://api.vk.com/method/users.get', params = {\n",
    "            'user_ids': ','.join(map(str, ids_chunk)),\n",
    "            'fields': 'bdate',\n",
    "            'access_token': ACCESS_TOKEN,\n",
    "            'v': API_VERSION,\n",
    "        })\n",
    "\n",
    "        if response.status_code != 200:\n",
    "            print(f\"Ошибка: запрос вернул статус {response.status_code}\")\n",
    "            print(response.text)\n",
    "            continue\n",
    "\n",
    "        try:\n",
    "            response_json = response.json()\n",
    "        except requests.exceptions.JSONDecodeError:\n",
    "            print(\"Ошибка: не удалось разобрать JSON\")\n",
    "            print(response.text)\n",
    "            continue\n",
    "\n",
    "        user_data_list.extend(response_json.get('response', []))\n",
    "\n",
    "    return user_data_list\n",
    "\n",
    "\n",
    "groups = list({'podslushanoxce', 'fanclubgoslinghse', 'hse_career', 'hse_overheard', 'hselibrary',\n",
    "               'print_hse', 'extrahse', 'ba_hse', 'hsedsba', 'hse_gsb', 'irgshse'})\n",
    "formatted_data = []\n",
    "\n",
    "for group_id in groups:\n",
    "    members = get_group_members(group_id)\n",
    "    if members:\n",
    "        users_data = get_user_data(members)\n",
    "\n",
    "        for user in users_data:\n",
    "            formatted_data.append({\n",
    "                'first_name': user.get('first_name'),\n",
    "                'last_name': user.get('last_name'),\n",
    "                'profile_link': f\"https://vk.com/id{user.get('id')}\",\n",
    "            })\n",
    "\n",
    "df = pd.DataFrame(formatted_data)\n",
    "df = df.drop_duplicates()\n",
    "df"
   ],
   "id": "5e29ef3bdb81a514",
   "outputs": [],
   "execution_count": 369
  },
  {
   "metadata": {
    "ExecuteTime": {
     "end_time": "2024-09-07T19:49:45.575425Z",
     "start_time": "2024-09-07T19:49:45.562588Z"
    }
   },
   "cell_type": "code",
   "source": [
    "jewish_first_names = ['Aaron', 'Aba', 'Avi', 'Aviv', 'Avigdor', 'Avinoam', 'Aviram', 'Aviu',\n",
    "                      'Avihai', 'Aviel', 'Avner', 'Avraham', 'Avshalom', 'Adam', 'Adi', 'Adir',\n",
    "                      'Adiel', 'Azriel', 'Akiva', 'Alon', 'Ami', 'Amikam', 'Amir', 'Amiram', 'Amit',\n",
    "                      'Amitai', 'Amichai', 'Amnon', 'Amos', 'Amram', 'Arik', 'Ariel', 'Arye',\n",
    "                      'Arel', 'Asaf', 'Asi', 'Asher', 'Barak', 'Baruch', 'Beni', 'Benci', 'Benzion',\n",
    "                      'Betzalel', 'Binyamin', 'Boaz', 'Gabi', 'Gabriel', 'Gad', 'Gadi', 'Guy',\n",
    "                      'Gal', 'Gedalya', 'Gershon', 'Gefen', 'Gidi', 'Gidon', 'Gilad', 'Gili', 'Gil',\n",
    "                      'Giora', 'Golan', 'David', 'Dan', 'Dani', 'Daniel', 'Dvir', 'Dekel', 'Dov',\n",
    "                      'Dubi', 'Dodik', 'Doron', 'Dror', 'Dudu', 'Dudi', 'Zacharia', 'Zevulon',\n",
    "                      'Ze’ev', 'Ziv', 'Zohar', 'Idan', 'Ido', 'Ilan', 'Immanuel', 'Itai', 'Itamar',\n",
    "                      'Ito', 'Yehuda', 'Yedidya', 'Yekutiel', 'Yeoshua', 'Yerachmiel', 'Yirmiyahu',\n",
    "                      'Yehezkel', 'Yechiel', 'Yeshayahu', 'Yigal', 'Yisrael', 'Yissachar', 'Yitzik',\n",
    "                      'Yitzhak', 'Yitzhar', 'Yishai', 'Yoav', 'Yovel', 'Yonah', 'Yonatan', 'Yoni',\n",
    "                      'Yosef', 'Yossi', 'Yotam', 'Yochai', 'Yochanan', 'Yoel', 'Katzir', 'Kobi',\n",
    "                      'Levi', 'Lior', 'Liran', 'Liron', 'Malachi', 'Malkiel', 'Ma’oz', 'Ma’or',\n",
    "                      'Matan', 'Mati', 'Matityahu', 'Meir', 'Menachem', 'Menashe', 'Meni',\n",
    "                      'Meshulam', 'Micha', 'Michael', 'Moni', 'Mordechai', 'Moti', 'Moshe', 'Nadav',\n",
    "                      'Naor', 'Narkis', 'Natan', 'Nati', 'Naftali', 'Nachman', 'Nachum', 'Nachshon',\n",
    "                      'Neria', 'Netanel', 'Nechemya', 'Ne’eman', 'Nir', 'Nisan', 'Nissim', 'Nitzan',\n",
    "                      'Noam', 'Noah', 'Nuriel', 'Oad', 'Ovadya', 'Oded', 'Oz', 'Omer', 'Omri', 'Or',\n",
    "                      'Ori', 'Oren', 'Oron', 'Ofer', 'Ofir', 'Osher', 'Peretz', 'Pesach', 'Pini',\n",
    "                      'Pinchas', 'Ra’anan', 'Raz', 'Razi', 'Raziel', 'Ram', 'Rami', 'Ran', 'Rani',\n",
    "                      'Raphael', 'Rafi', 'Rachamim', 'Rachmiel', 'Reuven', 'Rechavam', 'Roi', 'Ron',\n",
    "                      'Ronen', 'Roni', 'Rotem', 'Rubi', 'Sami', 'Sason', 'Sefi', 'Simcha', 'Tal',\n",
    "                      'Tamir', 'Tomer', 'Tuvia', 'Uzi', 'Uziel', 'Uri', 'Uriel', 'Hagai', 'Chaim',\n",
    "                      'Chanan', 'Chananiel', 'Chanoch', 'Chezi', 'Chizkiyahu', 'Tzadok', 'Tzachi',\n",
    "                      'Tzvi', 'Tzvika', 'Tzion', 'Tzefanya', 'Shabtai', 'Shai', 'Shaiya', 'Shalom',\n",
    "                      'Shamai', 'Sharon', 'Shaul', 'Shachar', 'Shaltiel', 'Shevach', 'Shimi',\n",
    "                      'Shimon', 'Shimshon', 'Shlomi', 'Shlomo', 'Shmarya', 'Shmuel', 'Shmulik',\n",
    "                      'Shraga', 'Shuki', 'Eden', 'Edna', 'Egoz', 'Ezer', 'Ezra', 'Eitan', 'Eli',\n",
    "                      'Elimelech', 'Elisha', 'Eliezer', 'Eliyahu', 'Elazar', 'Eldad', 'Elkana',\n",
    "                      'Elhanan', 'Eliakim', 'Eliyashiv', 'Eran', 'Erez', 'Efi', 'Efraim', 'Ehud',\n",
    "                      'Eyal', 'Yuval', 'Yaakov', 'Yair', 'Yakir', 'Yanai', 'Yaniv', 'Yarden',\n",
    "                      'Yaron', 'Aviva', 'Avivit', 'Avigail', 'Avital', 'Avia', 'Ada', 'Adar',\n",
    "                      'Adas', 'Adasa', 'Ayelet', 'Aliza', 'Alona', 'Amira', 'Anat', 'Ariela',\n",
    "                      'Ayala', 'Batya', 'Bilha', 'Bina', 'Bracha', 'Brurya', 'Varda', 'Vardit',\n",
    "                      'Vered', 'Gabriela', 'Gali', 'Galit', 'Galia', 'Geula', 'Gila', 'Dalia',\n",
    "                      'Dana', 'Daniela', 'Dasi', 'Dafna', 'Dvorah', 'Dikla', 'Dina', 'Dorit',\n",
    "                      'Drora', 'Zahava', 'Ziva', 'Ilana', 'Ilanit', 'Iris', 'Irit', 'Judith',\n",
    "                      'Yemima', 'Yisraela', 'Yifat', 'Yona', 'Yonit', 'Yocheved', 'Yocha', 'Kalani',\n",
    "                      'Carmela', 'Carmit', 'Keren', 'Kineret', 'Kochava', 'Leah', 'Levana',\n",
    "                      'Lilach', 'Limor', 'Liora', 'Liran', 'Liron', 'Mazal', 'Maya', 'Mali',\n",
    "                      'Malka', 'Margalit', 'Masua', 'Meira', 'Meirav', 'Meital', 'Menora',\n",
    "                      'Menucha', 'Mira', 'Miriam', 'Michal', 'Mor', 'Moran', 'Moria', 'Naama',\n",
    "                      'Nava', 'Naomi', 'Neta', 'Nechama', 'Nili', 'Nira', 'Nirit', 'Noa', 'Noga',\n",
    "                      'Nurit', 'Ora', 'Oranit', 'Orli', 'Orna', 'Osnat', 'Ofira', 'Ofra', 'Pnina',\n",
    "                      'Rakefet', 'Rachel', 'Revital', 'Reut', 'Rivka', 'Riki', 'Rina', 'Ronit',\n",
    "                      'Rotem', 'Ruth', 'Shani', 'Shanit', 'Sharon', 'Shachar', 'Shir', 'Shira',\n",
    "                      'Shiri', 'Shirley', 'Shifra', 'Shlomit', 'Shosh', 'Shoshana', 'Shula',\n",
    "                      'Shulamit', 'Shuli', 'Tehila', 'Te’ena', 'Tova', 'Tova', 'Talia', 'Tikva',\n",
    "                      'Hava', 'Chavatzelet', 'Chaya', 'Hagar', 'Hagit', 'Chana', 'Chemdat', 'Hen',\n",
    "                      'Hila', 'Tzameret', 'Tzvia', 'Tziyonah', 'Tzila', 'Tzipi', 'Tzipora', 'Yaara',\n",
    "                      'Yamit', 'Yarden', 'Yasmin', 'Yael']\n",
    "\n",
    "with open('jewish_last_names.txt') as f:\n",
    "    jewish_last_name = f.read().split(', ')\n",
    "\n",
    "for i in range(len(jewish_last_name)):\n",
    "    jewish_last_name[i] = jewish_last_name[i].lower()\n",
    "\n",
    "for i in range(len(jewish_first_names)):\n",
    "    jewish_first_names[i] = jewish_first_names[i].lower()\n",
    "\n",
    "jewish_last_name_patterns = [\n",
    "    \"gold\", \"silver\", \"miller\", \"cohen\", \"levi\", \"schneider\", \"wein\", \"stein\", \"baum\",\n",
    "    \"witz\", \"vitz\", \"sky\", \"ski\", \"man\", \"feld\", \"thal\", \"son\", \"ben\", \"bar\", \"vich\", \"berg\",\n",
    "    \"rosen\", \"blumen\", \"wolf\", \"fisch\", \"hirsch\", \"adler\", \"mosk\", \"solomon\", \"jacob\", \"david\",\n",
    "    \"isaac\", \"abrams\", \"itz\", \"levin\", \"katz\", \"hersh\", \"shapiro\"\n",
    "]"
   ],
   "id": "91a657abce382e16",
   "outputs": [],
   "execution_count": 371
  },
  {
   "metadata": {
    "ExecuteTime": {
     "end_time": "2024-09-07T19:49:45.603635Z",
     "start_time": "2024-09-07T19:49:45.601205Z"
    }
   },
   "cell_type": "code",
   "source": [
    "def is_jewish_last_name(last_name):\n",
    "    last_name_lower = last_name.lower()\n",
    "    for pattern in jewish_last_name_patterns:\n",
    "        if last_name_lower.endswith(pattern):\n",
    "            return True\n",
    "    return False\n",
    "\n",
    "\n",
    "def is_jewish(first_name, last_name):\n",
    "    first_name_lower = str(first_name).lower()\n",
    "    last_name_lower = str(last_name).lower()\n",
    "\n",
    "    if first_name_lower in jewish_first_names and (\n",
    "            last_name_lower in jewish_last_name or is_jewish_last_name(last_name_lower)):\n",
    "        return 'Имя и Фамилия'\n",
    "\n",
    "    if first_name_lower in jewish_first_names:\n",
    "        return 'Имя'\n",
    "\n",
    "    if last_name_lower in jewish_last_name or is_jewish_last_name(last_name_lower):\n",
    "        return 'Фамилия'\n",
    "\n",
    "    return None"
   ],
   "id": "8cbf828533e5f6d4",
   "outputs": [],
   "execution_count": 372
  },
  {
   "metadata": {
    "ExecuteTime": {
     "end_time": "2024-09-07T19:49:52.630418Z",
     "start_time": "2024-09-07T19:49:45.636747Z"
    }
   },
   "cell_type": "code",
   "source": [
    "df['Совпадает'] = df.apply(lambda row: is_jewish(row['first_name'], row['last_name']), axis = 1)\n",
    "df = df[df['Совпадает'].notnull()]\n",
    "df"
   ],
   "id": "aa9785e340f0647c",
   "outputs": [
    {
     "data": {
      "text/plain": [
       "       first_name      last_name               profile_link      Совпадает\n",
       "37     Konstantin     Gortsevsky   https://vk.com/id2884346        Фамилия\n",
       "49         Marina       Raysfeld   https://vk.com/id5723509        Фамилия\n",
       "76          Marat      Granovsky  https://vk.com/id16940581        Фамилия\n",
       "137          Dana        Dramova  https://vk.com/id43316026            Имя\n",
       "142        Nikita       Ganevich  https://vk.com/id45599875        Фамилия\n",
       "...           ...            ...                        ...            ...\n",
       "35446       Tomer      Beylinson  https://vk.com/id22363512  Имя и Фамилия\n",
       "35502      Andrey      Skaletsky  https://vk.com/id22708026        Фамилия\n",
       "35546       Dasha      Milkevich  https://vk.com/id23018102        Фамилия\n",
       "35550        Anna         Pavich  https://vk.com/id23035299        Фамилия\n",
       "35561        Dina  Abdullabekova  https://vk.com/id23127389            Имя\n",
       "\n",
       "[1251 rows x 4 columns]"
      ],
      "text/html": [
       "<div>\n",
       "<style scoped>\n",
       "    .dataframe tbody tr th:only-of-type {\n",
       "        vertical-align: middle;\n",
       "    }\n",
       "\n",
       "    .dataframe tbody tr th {\n",
       "        vertical-align: top;\n",
       "    }\n",
       "\n",
       "    .dataframe thead th {\n",
       "        text-align: right;\n",
       "    }\n",
       "</style>\n",
       "<table border=\"1\" class=\"dataframe\">\n",
       "  <thead>\n",
       "    <tr style=\"text-align: right;\">\n",
       "      <th></th>\n",
       "      <th>first_name</th>\n",
       "      <th>last_name</th>\n",
       "      <th>profile_link</th>\n",
       "      <th>Совпадает</th>\n",
       "    </tr>\n",
       "  </thead>\n",
       "  <tbody>\n",
       "    <tr>\n",
       "      <th>37</th>\n",
       "      <td>Konstantin</td>\n",
       "      <td>Gortsevsky</td>\n",
       "      <td>https://vk.com/id2884346</td>\n",
       "      <td>Фамилия</td>\n",
       "    </tr>\n",
       "    <tr>\n",
       "      <th>49</th>\n",
       "      <td>Marina</td>\n",
       "      <td>Raysfeld</td>\n",
       "      <td>https://vk.com/id5723509</td>\n",
       "      <td>Фамилия</td>\n",
       "    </tr>\n",
       "    <tr>\n",
       "      <th>76</th>\n",
       "      <td>Marat</td>\n",
       "      <td>Granovsky</td>\n",
       "      <td>https://vk.com/id16940581</td>\n",
       "      <td>Фамилия</td>\n",
       "    </tr>\n",
       "    <tr>\n",
       "      <th>137</th>\n",
       "      <td>Dana</td>\n",
       "      <td>Dramova</td>\n",
       "      <td>https://vk.com/id43316026</td>\n",
       "      <td>Имя</td>\n",
       "    </tr>\n",
       "    <tr>\n",
       "      <th>142</th>\n",
       "      <td>Nikita</td>\n",
       "      <td>Ganevich</td>\n",
       "      <td>https://vk.com/id45599875</td>\n",
       "      <td>Фамилия</td>\n",
       "    </tr>\n",
       "    <tr>\n",
       "      <th>...</th>\n",
       "      <td>...</td>\n",
       "      <td>...</td>\n",
       "      <td>...</td>\n",
       "      <td>...</td>\n",
       "    </tr>\n",
       "    <tr>\n",
       "      <th>35446</th>\n",
       "      <td>Tomer</td>\n",
       "      <td>Beylinson</td>\n",
       "      <td>https://vk.com/id22363512</td>\n",
       "      <td>Имя и Фамилия</td>\n",
       "    </tr>\n",
       "    <tr>\n",
       "      <th>35502</th>\n",
       "      <td>Andrey</td>\n",
       "      <td>Skaletsky</td>\n",
       "      <td>https://vk.com/id22708026</td>\n",
       "      <td>Фамилия</td>\n",
       "    </tr>\n",
       "    <tr>\n",
       "      <th>35546</th>\n",
       "      <td>Dasha</td>\n",
       "      <td>Milkevich</td>\n",
       "      <td>https://vk.com/id23018102</td>\n",
       "      <td>Фамилия</td>\n",
       "    </tr>\n",
       "    <tr>\n",
       "      <th>35550</th>\n",
       "      <td>Anna</td>\n",
       "      <td>Pavich</td>\n",
       "      <td>https://vk.com/id23035299</td>\n",
       "      <td>Фамилия</td>\n",
       "    </tr>\n",
       "    <tr>\n",
       "      <th>35561</th>\n",
       "      <td>Dina</td>\n",
       "      <td>Abdullabekova</td>\n",
       "      <td>https://vk.com/id23127389</td>\n",
       "      <td>Имя</td>\n",
       "    </tr>\n",
       "  </tbody>\n",
       "</table>\n",
       "<p>1251 rows × 4 columns</p>\n",
       "</div>"
      ]
     },
     "execution_count": 373,
     "metadata": {},
     "output_type": "execute_result"
    }
   ],
   "execution_count": 373
  },
  {
   "metadata": {
    "ExecuteTime": {
     "end_time": "2024-09-07T19:49:52.652879Z",
     "start_time": "2024-09-07T19:49:52.650150Z"
    }
   },
   "cell_type": "code",
   "source": "df['Совпадает'].value_counts()",
   "id": "f4263b6035a07c18",
   "outputs": [
    {
     "data": {
      "text/plain": [
       "Совпадает\n",
       "Фамилия          1049\n",
       "Имя               181\n",
       "Имя и Фамилия      21\n",
       "Name: count, dtype: int64"
      ]
     },
     "execution_count": 374,
     "metadata": {},
     "output_type": "execute_result"
    }
   ],
   "execution_count": 374
  },
  {
   "metadata": {
    "ExecuteTime": {
     "end_time": "2024-09-07T19:49:52.730896Z",
     "start_time": "2024-09-07T19:49:52.686788Z"
    }
   },
   "cell_type": "code",
   "source": "df.to_excel('Список Евреев согласно коду.xlsx', index = False)",
   "id": "101c3d054e8e7b03",
   "outputs": [],
   "execution_count": 375
  },
  {
   "metadata": {
    "ExecuteTime": {
     "end_time": "2024-09-07T19:49:52.783082Z",
     "start_time": "2024-09-07T19:49:52.746128Z"
    }
   },
   "cell_type": "code",
   "source": [
    "plt.figure(figsize = (10, 5))\n",
    "plt.pie(df['Совпадает'].value_counts(), labels = df['Совпадает'].value_counts().index,\n",
    "        autopct = '%1.1f%%')\n",
    "plt.show()"
   ],
   "id": "c35dbeb34cb8ca36",
   "outputs": [
    {
     "data": {
      "text/plain": [
       "<Figure size 1000x500 with 1 Axes>"
      ],
      "image/png": "[encoded data removed]"
     },
     "metadata": {},
     "output_type": "display_data"
    }
   ],
   "execution_count": 376
  }
 ],
 "metadata": {
  "kernelspec": {
   "display_name": "Python 3",
   "language": "python",
   "name": "python3"
  },
  "language_info": {
   "codemirror_mode": {
    "name": "ipython",
    "version": 2
   },
   "file_extension": ".py",
   "mimetype": "text/x-python",
   "name": "python",
   "nbconvert_exporter": "python",
   "pygments_lexer": "ipython2",
   "version": "2.7.6"
  }
 },
 "nbformat": 4,
 "nbformat_minor": 5
}
